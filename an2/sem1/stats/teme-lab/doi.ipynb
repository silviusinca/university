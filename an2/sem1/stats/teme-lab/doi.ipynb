{
 "cells": [
  {
   "cell_type": "code",
   "execution_count": 29,
   "id": "3a63dfb6",
   "metadata": {},
   "outputs": [],
   "source": [
    "# EXERCITIUL 1"
   ]
  },
  {
   "cell_type": "code",
   "execution_count": 6,
   "id": "6abcc2a4",
   "metadata": {},
   "outputs": [],
   "source": [
    "probabilitati = [0.5, 0.2, 0.3]"
   ]
  },
  {
   "cell_type": "code",
   "execution_count": 7,
   "id": "2b835073",
   "metadata": {},
   "outputs": [],
   "source": [
    "import numpy as np\n",
    "\n",
    "def alege_furinzor(prob):\n",
    "    return np.random.choice(a=[1, 2, 3], p=prob)\n",
    "\n",
    "def defecte(f):\n",
    "    aux = np.random.uniform()\n",
    "    if f == 1:\n",
    "        return aux < 0.05\n",
    "    else:\n",
    "        return aux < 0.03\n"
   ]
  },
  {
   "cell_type": "code",
   "execution_count": 12,
   "id": "29e26010",
   "metadata": {},
   "outputs": [],
   "source": [
    "def suba(n_obs):\n",
    "    n_def = 0\n",
    "    for i in range(n_obs + 1):\n",
    "        furnizor = alege_furinzor(probabilitati)\n",
    "        if furnizor == 1:\n",
    "            if np.random.uniform() < 0.05:\n",
    "                n_def += 1\n",
    "        else:\n",
    "            if np.random.uniform() < 0.03:\n",
    "                n_def += 1\n",
    "    return n_def/n_obs"
   ]
  },
  {
   "cell_type": "code",
   "execution_count": 16,
   "id": "2ce6b00a",
   "metadata": {},
   "outputs": [
    {
     "data": {
      "text/plain": [
       "0.0403"
      ]
     },
     "execution_count": 16,
     "metadata": {},
     "output_type": "execute_result"
    }
   ],
   "source": [
    "suba(10000)"
   ]
  },
  {
   "cell_type": "code",
   "execution_count": 26,
   "id": "0f420e39",
   "metadata": {},
   "outputs": [],
   "source": [
    "def subb(n_obs):\n",
    "    f1 = 0\n",
    "    f2 = 0\n",
    "    n_def = 0\n",
    "    for i in range(n_obs):\n",
    "        furnizor = alege_furinzor(probabilitati)\n",
    "        if defecte(furnizor):\n",
    "            n_def += 1\n",
    "            if furnizor == 1:\n",
    "                f1 += 1\n",
    "            elif furnizor == 2:\n",
    "                f2 += 1\n",
    "               \n",
    "    p1, p2 = f1/n_def, f2/n_def\n",
    "    \n",
    "    return p1, p2"
   ]
  },
  {
   "cell_type": "code",
   "execution_count": 28,
   "id": "f8fe1913",
   "metadata": {},
   "outputs": [
    {
     "data": {
      "text/plain": [
       "(0.6572890025575447, 0.1636828644501279)"
      ]
     },
     "execution_count": 28,
     "metadata": {},
     "output_type": "execute_result"
    }
   ],
   "source": [
    "subb(10000)"
   ]
  },
  {
   "cell_type": "code",
   "execution_count": 30,
   "id": "88d41585",
   "metadata": {},
   "outputs": [],
   "source": [
    "# EXERCITIUL 2"
   ]
  },
  {
   "cell_type": "code",
   "execution_count": 3,
   "id": "b3a76ade",
   "metadata": {},
   "outputs": [],
   "source": [
    "def dau_cu_zarul_si_nimeni_nu_ma_poate_opri():\n",
    "    z1 = np.random.randint(low=1, high=7)\n",
    "    z2 = np.random.randint(low=1, high=7)    \n",
    "    return z1, z2"
   ]
  },
  {
   "cell_type": "code",
   "execution_count": 38,
   "id": "bba2c58c",
   "metadata": {},
   "outputs": [],
   "source": [
    "def suba(n_obs):\n",
    "    n = 0\n",
    "    for i in range(n_obs):\n",
    "        incercare = dau_cu_zarul_si_nimeni_nu_ma_poate_opri()\n",
    "        if (incercare[0] + incercare[1]) % 2 == 0:\n",
    "            n += 1\n",
    "    return n/n_obs"
   ]
  },
  {
   "cell_type": "code",
   "execution_count": 40,
   "id": "c786fe04",
   "metadata": {},
   "outputs": [
    {
     "data": {
      "text/plain": [
       "0.50115"
      ]
     },
     "execution_count": 40,
     "metadata": {},
     "output_type": "execute_result"
    }
   ],
   "source": [
    "suba(100000)"
   ]
  },
  {
   "cell_type": "code",
   "execution_count": 48,
   "id": "e9a4b16d",
   "metadata": {},
   "outputs": [],
   "source": [
    "def subb(n_obs):\n",
    "    n = 0\n",
    "    for i in range(n_obs):\n",
    "        incercare = dau_cu_zarul_si_nimeni_nu_ma_poate_opri()\n",
    "        if (incercare[0] + incercare[1]) % 5 == 0:\n",
    "            n += 1\n",
    "    return n/n_obs"
   ]
  },
  {
   "cell_type": "code",
   "execution_count": 52,
   "id": "12002171",
   "metadata": {},
   "outputs": [
    {
     "data": {
      "text/plain": [
       "0.1973"
      ]
     },
     "execution_count": 52,
     "metadata": {},
     "output_type": "execute_result"
    }
   ],
   "source": [
    "subb(10000)"
   ]
  },
  {
   "cell_type": "code",
   "execution_count": 62,
   "id": "825c16a1",
   "metadata": {},
   "outputs": [],
   "source": [
    "def subc(n_obs):\n",
    "    n = 0\n",
    "    for i in range(n_obs):\n",
    "        incercare = dau_cu_zarul_si_nimeni_nu_ma_poate_opri()\n",
    "        # fac in asa fel incat primul zar sa fie par \n",
    "        while incercare[0] % 2 != 0:\n",
    "            incercare = dau_cu_zarul_si_nimeni_nu_ma_poate_opri()\n",
    "        if incercare[0] + incercare[1] > 7:\n",
    "            n += 1\n",
    "    return n/n_obs                "
   ]
  },
  {
   "cell_type": "code",
   "execution_count": 63,
   "id": "d3a970df",
   "metadata": {},
   "outputs": [
    {
     "data": {
      "text/plain": [
       "0.49876"
      ]
     },
     "execution_count": 63,
     "metadata": {},
     "output_type": "execute_result"
    }
   ],
   "source": [
    "subc(100000)"
   ]
  },
  {
   "cell_type": "code",
   "execution_count": 8,
   "id": "65c76943",
   "metadata": {},
   "outputs": [],
   "source": [
    "def subd(n_obs):\n",
    "    n = 0\n",
    "    for i in range(n_obs):\n",
    "        incercare = dau_cu_zarul_si_nimeni_nu_ma_poate_opri()\n",
    "        # fac in asa fel incat suma sa fie 8\n",
    "        while incercare[0] + incercare[1] != 8:\n",
    "            incercare = dau_cu_zarul_si_nimeni_nu_ma_poate_opri()\n",
    "        if incercare[0] > 2:\n",
    "            n += 1\n",
    "            \n",
    "    return n/n_obs                "
   ]
  },
  {
   "cell_type": "code",
   "execution_count": 9,
   "id": "a6358e2f",
   "metadata": {},
   "outputs": [
    {
     "data": {
      "text/plain": [
       "0.8031"
      ]
     },
     "execution_count": 9,
     "metadata": {},
     "output_type": "execute_result"
    }
   ],
   "source": [
    "subd(10000)"
   ]
  },
  {
   "cell_type": "code",
   "execution_count": null,
   "id": "7a4c9b3d",
   "metadata": {},
   "outputs": [],
   "source": []
  }
 ],
 "metadata": {
  "kernelspec": {
   "display_name": "Python 3",
   "language": "python",
   "name": "python3"
  },
  "language_info": {
   "codemirror_mode": {
    "name": "ipython",
    "version": 3
   },
   "file_extension": ".py",
   "mimetype": "text/x-python",
   "name": "python",
   "nbconvert_exporter": "python",
   "pygments_lexer": "ipython3",
   "version": "3.8.8"
  }
 },
 "nbformat": 4,
 "nbformat_minor": 5
}
