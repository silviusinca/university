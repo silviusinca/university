{
 "cells": [
  {
   "cell_type": "code",
   "execution_count": 4,
   "id": "2c30195b",
   "metadata": {},
   "outputs": [],
   "source": [
    "import numpy as np"
   ]
  },
  {
   "cell_type": "code",
   "execution_count": 8,
   "id": "78f9b090",
   "metadata": {},
   "outputs": [
    {
     "data": {
      "text/plain": [
       "array([1, 2, 3])"
      ]
     },
     "execution_count": 8,
     "metadata": {},
     "output_type": "execute_result"
    }
   ],
   "source": [
    "t = [1, 2, 3]\n",
    "vector = np.array(t)\n",
    "vector"
   ]
  },
  {
   "cell_type": "code",
   "execution_count": 31,
   "id": "d6a11ce6",
   "metadata": {},
   "outputs": [
    {
     "data": {
      "text/plain": [
       "0.9803072462797114"
      ]
     },
     "execution_count": 31,
     "metadata": {},
     "output_type": "execute_result"
    }
   ],
   "source": [
    "# simulator de dat cu banul\n",
    "# prima mea pacanea \n",
    "\n",
    "np.random.randint(low=0, high=2)\n",
    "np.random.choice(a=[\"CAP\", \"PAJURA\"])\n",
    "np.random.uniform()\n"
   ]
  },
  {
   "cell_type": "code",
   "execution_count": 32,
   "id": "0662b199",
   "metadata": {},
   "outputs": [],
   "source": [
    "def simulatorul(size=100, elemente = [\"CAP\", \"PAJURA\"]):\n",
    "    return [np.random.choice(elemente) for _ in range(size)]"
   ]
  },
  {
   "cell_type": "code",
   "execution_count": 36,
   "id": "ba1eb3fc",
   "metadata": {},
   "outputs": [],
   "source": [
    "obs = simulatorul(50)"
   ]
  },
  {
   "cell_type": "code",
   "execution_count": 34,
   "id": "98b4f54f",
   "metadata": {},
   "outputs": [],
   "source": [
    "def calculeaza_sansa(lista_obs, interes=\"PAJURA\"):\n",
    "    calcul = [1 if obs == interes else 0 for obs in lista_obs]\n",
    "    print(sum(calcul)/len(calcul))"
   ]
  },
  {
   "cell_type": "code",
   "execution_count": 76,
   "id": "ab4c2fe4",
   "metadata": {},
   "outputs": [
    {
     "name": "stdout",
     "output_type": "stream",
     "text": [
      "0.500374\n"
     ]
    }
   ],
   "source": [
    "obs = simulatorul(1000000)\n",
    "\n",
    "calculeaza_sansa(obs, interes=\"CAP\")"
   ]
  },
  {
   "cell_type": "code",
   "execution_count": null,
   "id": "7479d946",
   "metadata": {},
   "outputs": [],
   "source": []
  },
  {
   "cell_type": "code",
   "execution_count": null,
   "id": "0932619a",
   "metadata": {},
   "outputs": [],
   "source": []
  }
 ],
 "metadata": {
  "kernelspec": {
   "display_name": "Python 3",
   "language": "python",
   "name": "python3"
  },
  "language_info": {
   "codemirror_mode": {
    "name": "ipython",
    "version": 3
   },
   "file_extension": ".py",
   "mimetype": "text/x-python",
   "name": "python",
   "nbconvert_exporter": "python",
   "pygments_lexer": "ipython3",
   "version": "3.8.8"
  }
 },
 "nbformat": 4,
 "nbformat_minor": 5
}
