{
 "cells": [
  {
   "cell_type": "code",
   "execution_count": 64,
   "id": "07bc960e-70f3-491e-88c7-70331361c91e",
   "metadata": {},
   "outputs": [],
   "source": [
    "import numpy as np\n",
    "\n",
    "# simulam jocul cu strainul -> ala cu 100 de lei\n",
    "\n",
    "def da_cu_banul(p):\n",
    "    return int(np.random.uniform() < p)\n",
    "\n",
    "\n",
    "def joaca_jocul(p):\n",
    "    counter = 0\n",
    "    \n",
    "    while not da_cu_banul(p):\n",
    "        counter += 1\n",
    "        \n",
    "    return counter + 1\n",
    "        \n",
    "def joaca_jocul_cu_bani(p):\n",
    "    counter = 0\n",
    "    \n",
    "    while not da_cu_banul(p):\n",
    "        counter += 1\n",
    "    \n",
    "    return (2**counter)*100\n",
    "\n",
    "\n",
    "\n",
    "def simulam_dungeon_dice(K=20):\n",
    "    realizari = []\n",
    "    x = np.random.choice([1, 2, 3, 4, 5, 6])\n",
    "    realizari.append(x)\n",
    "    \n",
    "    while x != 1:\n",
    "        x = np.random.choice([1, 2, 3, 4, 5, 6])\n",
    "        realizari.append(x)\n",
    "    \n",
    "    return sum(realizari)\n"
   ]
  },
  {
   "cell_type": "code",
   "execution_count": 61,
   "id": "034f0aab-5b19-4ba5-ba00-a0e0ac3df749",
   "metadata": {},
   "outputs": [
    {
     "data": {
      "text/plain": [
       "399.7"
      ]
     },
     "execution_count": 61,
     "metadata": {},
     "output_type": "execute_result"
    }
   ],
   "source": [
    "p = 1/2 + 0.2\n",
    "np.mean([joaca_jocul_cu_bani(p) for i in range(1000)])\n"
   ]
  },
  {
   "cell_type": "code",
   "execution_count": 67,
   "id": "a6a53bd2-1bfa-4c59-b82e-e27fb77b6121",
   "metadata": {},
   "outputs": [
    {
     "data": {
      "text/plain": [
       "45"
      ]
     },
     "execution_count": 67,
     "metadata": {},
     "output_type": "execute_result"
    }
   ],
   "source": [
    "experimente = [1 if simulam_dungeon_dice() >= 20 else 0 for i in range(10000)]"
   ]
  },
  {
   "cell_type": "code",
   "execution_count": 70,
   "id": "1e0f3b71-6fd3-4c7b-9f6b-f1c99bae97a8",
   "metadata": {},
   "outputs": [
    {
     "data": {
      "text/plain": [
       "0.258"
      ]
     },
     "execution_count": 70,
     "metadata": {},
     "output_type": "execute_result"
    }
   ],
   "source": [
    "experimente = []\n",
    "for i in range(10000):\n",
    "    rez = simulam_dungeon_dice()\n",
    "    if rez >= 10 and rez <= 21:\n",
    "        experimente.append(1)\n",
    "    else:\n",
    "        experimente.append(0)\n",
    "        \n",
    "sum(experimente)/len(experimente)"
   ]
  },
  {
   "cell_type": "code",
   "execution_count": null,
   "id": "8dd47fb4-38c5-4ae7-8577-1004e21469e8",
   "metadata": {},
   "outputs": [],
   "source": []
  }
 ],
 "metadata": {
  "kernelspec": {
   "display_name": "Python 3",
   "language": "python",
   "name": "python3"
  },
  "language_info": {
   "codemirror_mode": {
    "name": "ipython",
    "version": 3
   },
   "file_extension": ".py",
   "mimetype": "text/x-python",
   "name": "python",
   "nbconvert_exporter": "python",
   "pygments_lexer": "ipython3",
   "version": "3.8.8"
  }
 },
 "nbformat": 4,
 "nbformat_minor": 5
}
