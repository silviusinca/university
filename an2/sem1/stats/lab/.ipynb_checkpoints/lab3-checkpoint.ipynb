{
 "cells": [
  {
   "cell_type": "code",
   "execution_count": 27,
   "id": "217179bc",
   "metadata": {},
   "outputs": [
    {
     "data": {
      "text/plain": [
       "1"
      ]
     },
     "execution_count": 27,
     "metadata": {},
     "output_type": "execute_result"
    }
   ],
   "source": [
    "import numpy as np\n",
    "import scikit\n",
    "\n",
    "def exemplu_simulatorul(p):\n",
    "    extragere = np.random.uniform() \n",
    "    if extragere < p:\n",
    "        return 0\n",
    "    return 1\n",
    "\n",
    "exemplu_simulatorul(0.2)\n"
   ]
  },
  {
   "cell_type": "code",
   "execution_count": 35,
   "id": "26e92e73",
   "metadata": {},
   "outputs": [],
   "source": [
    "\"\"\"\n",
    "simulam problema 2\n",
    "\"\"\"\n",
    "\n",
    "def fa_copil(p_fata):\n",
    "    return int(np.random.uniform() > p_fata)\n",
    "\n",
    "\n",
    "def simuleaza_experiment_a(p_fata, nr_iteratii):\n",
    "    \n",
    "    incercari_favorabile = 0\n",
    "    incercari = 0\n",
    "\n",
    "    for i in range(nr_iteratii):\n",
    "        c1 = fa_copil(p_fata)\n",
    "        c2 = fa_copil(p_fata)\n",
    "        if c1:\n",
    "            incercari += 1\n",
    "            \n",
    "            if c2:\n",
    "                incercari_favorabile += 1\n",
    "                        \n",
    "    return incercari_favorabile/incercari\n",
    "\n",
    "def simuleaza_experiment_b(p_fata, nr_iteratii):\n",
    "    \n",
    "    incercari_favorabile = 0\n",
    "    incercari = 0\n",
    "\n",
    "    for i in range(nr_iteratii):\n",
    "        c1 = fa_copil(p_fata)\n",
    "        c2 = fa_copil(p_fata)\n",
    "        \n",
    "        if c1 or c2:\n",
    "            incercari += 1\n",
    "\n",
    "            if c1 and c2:\n",
    "                incercari_favorabile += 1\n",
    "                \n",
    "    return incercari_favorabile/incercari\n"
   ]
  },
  {
   "cell_type": "code",
   "execution_count": 37,
   "id": "1a02020d",
   "metadata": {},
   "outputs": [
    {
     "data": {
      "text/plain": [
       "0.33388107357086555"
      ]
     },
     "execution_count": 37,
     "metadata": {},
     "output_type": "execute_result"
    }
   ],
   "source": [
    "simuleaza_experiment_b(0.5, 100000)"
   ]
  },
  {
   "cell_type": "code",
   "execution_count": 52,
   "id": "98dbe4e2",
   "metadata": {},
   "outputs": [],
   "source": [
    "\"\"\"\n",
    "simulare teste covid\n",
    "\"\"\"\n",
    "def ia_covid(p_covid):\n",
    "    return np.random.uniform() < p_covid\n",
    "\n",
    "\n",
    "def testeaza_covid(p_pozitiv, p_negativ, covid):\n",
    "    if covid:\n",
    "        return np.random.uniform() < p_pozitiv\n",
    "\n",
    "    return np.random.uniform() < 1 - p_negativ\n",
    "\n",
    "\n",
    "def simuleaza_testare_covid(p_covid, p_pozitiv, p_negativ, nr_iteratii):\n",
    "    incercari = 0\n",
    "    incercari_fav = 0\n",
    "    for i in range(nr_iteratii):\n",
    "        covid = ia_covid(p_covid)\n",
    "        rezultat_test = testeaza_covid(p_pozitiv, p_negativ, covid)\n",
    "        \n",
    "        if rezultat_test:\n",
    "            incercari += 1\n",
    "            if covid:\n",
    "                incercari_fav += 1\n",
    "                \n",
    "    return incercari_fav / incercari\n"
   ]
  },
  {
   "cell_type": "code",
   "execution_count": 57,
   "id": "0f160338",
   "metadata": {},
   "outputs": [
    {
     "data": {
      "text/plain": [
       "0.19006211180124225"
      ]
     },
     "execution_count": 57,
     "metadata": {},
     "output_type": "execute_result"
    }
   ],
   "source": [
    "simuleaza_testare_covid(0.05, 0.9, 0.8, 10000)"
   ]
  },
  {
   "cell_type": "code",
   "execution_count": null,
   "id": "8a3653c3",
   "metadata": {},
   "outputs": [],
   "source": []
  },
  {
   "cell_type": "code",
   "execution_count": null,
   "id": "b18a5cf7",
   "metadata": {},
   "outputs": [],
   "source": []
  },
  {
   "cell_type": "code",
   "execution_count": null,
   "id": "45611658",
   "metadata": {},
   "outputs": [],
   "source": []
  },
  {
   "cell_type": "code",
   "execution_count": null,
   "id": "c5b89aa0",
   "metadata": {},
   "outputs": [],
   "source": []
  },
  {
   "cell_type": "code",
   "execution_count": null,
   "id": "4d49140b",
   "metadata": {},
   "outputs": [],
   "source": []
  },
  {
   "cell_type": "code",
   "execution_count": null,
   "id": "82064261",
   "metadata": {},
   "outputs": [],
   "source": []
  }
 ],
 "metadata": {
  "kernelspec": {
   "display_name": "Python 3",
   "language": "python",
   "name": "python3"
  },
  "language_info": {
   "codemirror_mode": {
    "name": "ipython",
    "version": 3
   },
   "file_extension": ".py",
   "mimetype": "text/x-python",
   "name": "python",
   "nbconvert_exporter": "python",
   "pygments_lexer": "ipython3",
   "version": "3.8.8"
  }
 },
 "nbformat": 4,
 "nbformat_minor": 5
}
