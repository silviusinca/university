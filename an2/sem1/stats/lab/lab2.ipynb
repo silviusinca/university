{
 "cells": [
  {
   "cell_type": "code",
   "execution_count": 13,
   "id": "2f730d4c",
   "metadata": {},
   "outputs": [],
   "source": [
    "import numpy as np\n",
    "import matplotlib.pyplot as plt\n",
    "\n",
    "\n",
    "# returneaza un numar la intamplare: numpy.random.randint\n",
    "# returneaza o extragere dintr-un array: numpy.random.choice\n",
    "\n",
    "\n",
    "# a doua mea pacanea\n",
    "def a_doua_pacanea(valori, probabilitati, numar_de_observatii):\n",
    "    \n",
    "    return np.random.choice(a=valori, p=probabilitati, replace=True, size=numar_de_observatii)\n",
    "\n",
    "def fa_mi_un_grafic(valori, probabilitati, de_interes, no_iteratii=100):\n",
    "    grafic = []\n",
    "    for i in range(no_iteratii):\n",
    "        observatii = a_doua_pacanea(valori, probabilitati, i*10+1)\n",
    "        obs_de_interes = [obs for obs in observatii if obs == de_interes]\n",
    "        proba = len(obs_de_interes)/len(observatii)\n",
    "        grafic.append(proba)\n",
    "        \n",
    "    return grafic\n"
   ]
  },
  {
   "cell_type": "code",
   "execution_count": 19,
   "id": "7cabd021",
   "metadata": {},
   "outputs": [
    {
     "data": {
      "text/plain": [
       "[<matplotlib.lines.Line2D at 0x7fbd13680c70>]"
      ]
     },
     "execution_count": 19,
     "metadata": {},
     "output_type": "execute_result"
    },
    {
     "data": {
      "image/png": "[encoded data removed]",
      "text/plain": [
       "<Figure size 432x288 with 1 Axes>"
      ]
     },
     "metadata": {
      "needs_background": "light"
     },
     "output_type": "display_data"
    }
   ],
   "source": [
    "valori = [1, 2, 3]\n",
    "prob = [1/4, 1/4, 2/4]\n",
    "\n",
    "grafic = fa_mi_un_grafic(valori, prob, 3, 100)\n",
    "plt.plot(grafic)\n"
   ]
  },
  {
   "cell_type": "code",
   "execution_count": 22,
   "id": "6a3e2501",
   "metadata": {},
   "outputs": [],
   "source": [
    "def primul_meu_barbut(no_obs):\n",
    "    def perechea():\n",
    "        a = np.random.randint(low=1, high=7)\n",
    "        b = np.random.randint(low=1, high=7)\n",
    "        return (a, b)\n",
    "    \n",
    "    count = 0\n",
    "    for i in range(no_obs):\n",
    "        \n",
    "        a, b = perechea()\n",
    "        if a + b > 7:\n",
    "            count += 1\n",
    "        \n",
    "    prob = count/no_obs\n",
    "    print (prob)\n",
    "    \n",
    "    return prob\n",
    "    "
   ]
  },
  {
   "cell_type": "code",
   "execution_count": 34,
   "id": "9c719235",
   "metadata": {},
   "outputs": [
    {
     "name": "stdout",
     "output_type": "stream",
     "text": [
      "0.4169\n"
     ]
    },
    {
     "data": {
      "text/plain": [
       "0.4169"
      ]
     },
     "execution_count": 34,
     "metadata": {},
     "output_type": "execute_result"
    }
   ],
   "source": [
    "primul_meu_barbut(30000)"
   ]
  },
  {
   "cell_type": "code",
   "execution_count": 35,
   "id": "e7636504",
   "metadata": {},
   "outputs": [],
   "source": [
    "def al_doilea_meu_barbut(no_obs):\n",
    "    def perechea():\n",
    "        a = np.random.choice(a=[2, 4, 6], replace=True)\n",
    "        b = np.random.randint(low=1, high=7)\n",
    "        return (a, b)\n",
    "    \n",
    "    count = 0\n",
    "    for i in range(no_obs):\n",
    "        \n",
    "        a, b = perechea()\n",
    "        if (a + b) % 3 == 0:\n",
    "            count += 1\n",
    "        \n",
    "    prob = count/no_obs\n",
    "    print (prob)\n",
    "    \n",
    "    return prob\n"
   ]
  },
  {
   "cell_type": "code",
   "execution_count": 39,
   "id": "373ac3bd",
   "metadata": {},
   "outputs": [
    {
     "name": "stdout",
     "output_type": "stream",
     "text": [
      "0.33356\n"
     ]
    },
    {
     "data": {
      "text/plain": [
       "0.33356"
      ]
     },
     "execution_count": 39,
     "metadata": {},
     "output_type": "execute_result"
    }
   ],
   "source": [
    "al_doilea_meu_barbut(100000)"
   ]
  },
  {
   "cell_type": "code",
   "execution_count": 49,
   "id": "b49c65dc",
   "metadata": {},
   "outputs": [],
   "source": [
    "def problema_cu_banul(num_aruncari, num_incercari):\n",
    "    # 1 = cap\n",
    "    # 0 = pajura\n",
    "    # vrem sa numaram de cate ori apare situatia in care avem fix 2 capete\n",
    "    \n",
    "    def aruncare(num_aruncari):\n",
    "        return np.random.randint(low=0, high=2, size=num_aruncari)\n",
    "    \n",
    "    count = 0\n",
    "    for incercare in range(num_incercari):\n",
    "        rezultat = aruncare(num_aruncari)\n",
    "        # print(rezultat)\n",
    "        if np.count_nonzero(rezultat == 1) == 5:\n",
    "            count += 1\n",
    "        \n",
    "    prob = count/num_incercari\n",
    "    \n",
    "    print(prob)\n",
    "    \n",
    "    return prob\n",
    "    \n",
    "    "
   ]
  },
  {
   "cell_type": "code",
   "execution_count": 58,
   "id": "7a8695e2",
   "metadata": {},
   "outputs": [
    {
     "name": "stdout",
     "output_type": "stream",
     "text": [
      "0.01395\n"
     ]
    },
    {
     "data": {
      "text/plain": [
       "0.01395"
      ]
     },
     "execution_count": 58,
     "metadata": {},
     "output_type": "execute_result"
    }
   ],
   "source": [
    "problema_cu_banul(20, 100000)"
   ]
  },
  {
   "cell_type": "code",
   "execution_count": 59,
   "id": "700d8c1b",
   "metadata": {},
   "outputs": [],
   "source": [
    "# aruncam 3 zaruri:\n",
    "# stiind ca al doilea este impar si primul <= 5, care e probabilitatea ca suma celor 3 sa fie < 10\n",
    "def al_treilea_meu_barbut(no_obs):\n",
    "    def perechea():\n",
    "        a = np.random.randint(low=1, high=6)\n",
    "        b = np.random.choice(a=[1, 3, 5], replace=True)\n",
    "        c = np.random.randint(low=1, high=7)\n",
    "        return (a, b, c)\n",
    "    \n",
    "    count = 0\n",
    "    for i in range(no_obs):\n",
    "        \n",
    "        a, b, c = perechea()\n",
    "        if a + b + c < 10:\n",
    "            count += 1\n",
    "        \n",
    "    prob = count/no_obs\n",
    "    print (prob)\n",
    "    \n",
    "    return prob\n",
    "    "
   ]
  },
  {
   "cell_type": "code",
   "execution_count": 67,
   "id": "df1470e6",
   "metadata": {},
   "outputs": [
    {
     "name": "stdout",
     "output_type": "stream",
     "text": [
      "0.5007\n"
     ]
    },
    {
     "data": {
      "text/plain": [
       "0.5007"
      ]
     },
     "execution_count": 67,
     "metadata": {},
     "output_type": "execute_result"
    }
   ],
   "source": [
    "al_treilea_meu_barbut(10000)"
   ]
  },
  {
   "cell_type": "code",
   "execution_count": null,
   "id": "058003cb",
   "metadata": {},
   "outputs": [],
   "source": []
  },
  {
   "cell_type": "code",
   "execution_count": null,
   "id": "4d6d5383",
   "metadata": {},
   "outputs": [],
   "source": []
  },
  {
   "cell_type": "code",
   "execution_count": null,
   "id": "44262f9d",
   "metadata": {},
   "outputs": [],
   "source": []
  },
  {
   "cell_type": "code",
   "execution_count": null,
   "id": "21753f74",
   "metadata": {},
   "outputs": [],
   "source": []
  },
  {
   "cell_type": "code",
   "execution_count": null,
   "id": "2fcd4dc2",
   "metadata": {},
   "outputs": [],
   "source": []
  },
  {
   "cell_type": "code",
   "execution_count": null,
   "id": "3cfce013",
   "metadata": {},
   "outputs": [],
   "source": []
  }
 ],
 "metadata": {
  "kernelspec": {
   "display_name": "Python 3",
   "language": "python",
   "name": "python3"
  },
  "language_info": {
   "codemirror_mode": {
    "name": "ipython",
    "version": 3
   },
   "file_extension": ".py",
   "mimetype": "text/x-python",
   "name": "python",
   "nbconvert_exporter": "python",
   "pygments_lexer": "ipython3",
   "version": "3.8.8"
  }
 },
 "nbformat": 4,
 "nbformat_minor": 5
}
